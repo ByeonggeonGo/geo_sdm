{
 "cells": [
  {
   "cell_type": "code",
   "execution_count": null,
   "metadata": {},
   "outputs": [],
   "source": [
    "import zipfile\n",
    "import os\n",
    "import pandas as pd\n",
    "import numpy as np\n",
    "from glob import glob\n",
    "path = os.getcwd()\n",
    "os.getcwd()\n",
    "\n",
    "import os\n",
    "import pandas as pd\n",
    "import numpy as np\n",
    "path = os.getcwd()\n",
    "os.getcwd()\n",
    "\n",
    "import geopandas as gpd # GeoPandas(지오판다스)\n",
    "from glob import glob\n",
    "import matplotlib.pyplot as plt\n",
    "from shapely.geometry import Polygon, LineString, Point\n",
    "\n",
    "import rasterio\n",
    "import matplotlib.pyplot as plt\n",
    "\n",
    "import os\n",
    "import pandas as pd\n",
    "import numpy as np\n",
    "path = os.getcwd()\n",
    "os.getcwd()\n",
    "\n",
    "import geopandas as gpd # GeoPandas(지오판다스)\n",
    "from glob import glob\n",
    "import matplotlib.pyplot as plt\n",
    "from shapely.geometry import Polygon, LineString, Point\n",
    "from pyproj import Proj, transform\n",
    "\n",
    "import pickle\n",
    "# pickle.dump(hyd_df_merged, open(os.path.join(path,\"data\",\"merged\",\"merged_1\",\"test.p\",), \"wb\"))     \n",
    "# test = pickle.load(open(os.path.join(path,\"data\",\"merged\",\"merged_1\",\"test.p\",), \"rb\"))  \n",
    "import shapely\n",
    "import warnings\n",
    "from shapely.errors import ShapelyDeprecationWarning\n",
    "warnings.filterwarnings(\"ignore\", category=ShapelyDeprecationWarning) "
   ]
  },
  {
   "cell_type": "code",
   "execution_count": null,
   "metadata": {},
   "outputs": [],
   "source": [
    "from xgboost import XGBClassifier, XGBRegressor\n",
    "from sklearn.model_selection import train_test_split\n",
    "import sklearn.metrics\n",
    "import shap"
   ]
  },
  {
   "cell_type": "code",
   "execution_count": null,
   "metadata": {},
   "outputs": [],
   "source": [
    "# 폰트\n",
    "import matplotlib as mpl\n",
    "import matplotlib.pyplot as plt\n",
    "import matplotlib.font_manager as fm\n",
    "\n",
    "plt.rcParams[\"font.family\"] = 'Hancom Gothic'\n",
    "plt.rcParams[\"font.size\"] = 10"
   ]
  },
  {
   "cell_type": "markdown",
   "metadata": {},
   "source": [
    "## 개체수 현황"
   ]
  },
  {
   "cell_type": "code",
   "execution_count": null,
   "metadata": {},
   "outputs": [],
   "source": [
    "Family_gdf = pickle.load(open(os.path.join(path,\"data\",\"merged\",\"merged_1\",\"Family_gdf.p\",), \"rb\"))\n",
    "Family_set = ['Baetidae','Chironomidae','Ephemerellidae','Ephemeridae','Heptageniidae','Hydropsychidae','Leptophlebiidae','Philopotamidae','Pleuroceridae','Rhyacophilidae','Simuliidae','Tipulidae','Belostomatidae','Limoniidae','Potamanthidae','Psychomyiidae','Tubificidae','Ceratopogonidae','Gammaridae','Asellidae','Planariidae','Ecnomidae','Corydalidae','Elmidae','Leptoceridae','Perlidae','Psephenidae','Apataniidae','Dytiscidae','Nemouridae','Glossiphoniidae','Hirudinidae','Physidae','Glossosomatidae','Gomphidae','Stenopsychidae','Erpobdellidae','Hydroptilidae','Limnephilidae','Lymnaeidae','Caenidae','Chloroperlidae','Calopterygidae','Corixidae','Hydrophilidae','Cyrenidae','Goeridae','Psychodidae','Lepidostomatidae','Planorbidae','Dolichopodidae','Cordulegastridae','Varunidae','Coenagrionidae','Libellulidae','Salifidae','Stenothyridae','Naididae','Viviparidae','Unionidae','Ephydridae','Gordiidae','Muscidae','Atyidae','Macromiidae','Mytilidae','Pediciidae','Perlodidae','Nereididae','Gerridae','Haliplidae','Platycnemididae','Assimineidae','Polycentropodidae','Tabanidae','Blephariceridae','Odontoceridae','Scirtidae','Taeniopterygidae','Uenoidae','Chaoboridae','Ampullariidae','Sphaeromatidae','Neoephemeridae','Siphlonuridae','Nepidae','Palaemonidae','Capniidae','Athericidae','Culicidae','Hydrobiosidae','Ameletidae','Dixidae','Pteronarcidae','Noteridae','Stratiomyidae','Calamoceratidae','Cambaroididae','Succineidae','Bithyniidae','Sphaeriidae','Lampyridae','Aphelocheiridae','Brachycentridae','Gyrinidae','Syrphidae','Lumbricidae','Notonectidae','Leuctridae','Sericostomatidae','Collembola','Corduliidae','Empididae','Phryganopsychidae','Chrysomelidae','Crambidae','Polymitarcyidae','Aeshnidae','Nymphalidae','Isonychiidae','Peltoperlidae','Sialidae','Neritidae','Mesoveliidae','Molannidae','Pyralidae','Cyzicidae','Anisogammaridae','Phryganeidae','Sergestidae','Pleidae','Heteroceridae','Dryopidae','Sesarmidae','Lestidae','Deuterophlebiidae','Ichneumonidae','Hydrometridae','Veliidae','Limnadiidae','Corophiidae','Hydraenidae','Dotillidae','Mysidae','Periplomatidae','Corbulidae','Lumbriculidae','Anthuridae','Sciomyzidae','Sisyridae','Ochteridae','Cyprididae','Hebridae','Ocypodidae','Grapsidae','Triopidae','Lynceidae','Trochidae','Camptandriidae','Helophoridae','Thamnocephalidae','Saldidae',]"
   ]
  },
  {
   "cell_type": "code",
   "execution_count": null,
   "metadata": {},
   "outputs": [],
   "source": [
    "search_df = Family_gdf.loc[:,['조사년도', '조사회차', '조사지점'] + Family_set]\n",
    "search_df.head()"
   ]
  },
  {
   "cell_type": "markdown",
   "metadata": {},
   "source": [
    "* Family별 년도변화 전체 지점 합계"
   ]
  },
  {
   "cell_type": "code",
   "execution_count": null,
   "metadata": {},
   "outputs": [],
   "source": [
    "mean_df = search_df.groupby('조사년도').sum()\n",
    "family_n = len(list(set(search_df.columns) - {'조사년도', '조사회차', '조사지점'}))\n",
    "v_leng = 7 * family_n\n",
    "\n",
    "\n",
    "for i in range(family_n):\n",
    "    fig, ax = plt.subplots(1,1,figsize = (14,3))\n",
    "    fig.suptitle(mean_df.columns[i+1])\n",
    "    ax.plot(mean_df.index, mean_df.iloc[:,i+1],)"
   ]
  },
  {
   "cell_type": "code",
   "execution_count": null,
   "metadata": {},
   "outputs": [],
   "source": [
    "## 2012에서 2020 전부 있는 지점만\n",
    "dup_site = set(search_df.loc[(search_df.조사년도 == 2012) & (search_df.조사회차 == 1)].조사지점.values)\n",
    "for i in range(2012,2020):\n",
    "    for j in [1,2]:\n",
    "        dup_site = dup_site & set(search_df.loc[(search_df.조사년도 == i) & (search_df.조사회차 == j)].조사지점.values)\n",
    "dup_site\n",
    "\n",
    "mean_df = search_df.loc[search_df.조사지점.isin(dup_site)].groupby('조사년도').sum()\n",
    "family_n = len(list(set(search_df.columns) - {'조사년도', '조사회차', '조사지점'}))\n",
    "v_leng = 7 * family_n\n",
    "\n",
    "\n",
    "for i in range(family_n):\n",
    "    fig, ax = plt.subplots(1,1,figsize = (14,3))\n",
    "    fig.suptitle(mean_df.columns[i+1])\n",
    "    ax.plot(mean_df.index, mean_df.iloc[:,i+1],)"
   ]
  },
  {
   "cell_type": "markdown",
   "metadata": {},
   "source": [
    "* 지점별로 위 그래프보기(매년 샘플링지점이 달라서 selectin bias 있음, 단순하게 평균으로 평가하기 어려움)"
   ]
  },
  {
   "cell_type": "code",
   "execution_count": null,
   "metadata": {},
   "outputs": [],
   "source": [
    "for j in list(set(search_df.조사지점)):\n",
    "    mean_df = search_df.loc[search_df.조사지점 == j].groupby('조사년도').sum()\n",
    "    family_n = len(list(set(search_df.columns) - {'조사년도', '조사회차', '조사지점'}))\n",
    "    v_leng = 7 * family_n\n",
    "\n",
    "\n",
    "    for i in range(family_n):\n",
    "        fig, ax = plt.subplots(1,1,figsize = (14,3))\n",
    "        fig.suptitle(j + \"_\" +mean_df.columns[i+1])\n",
    "        ax.plot(mean_df.index, mean_df.iloc[:,i+1],)\n",
    "        fig.savefig(os.path.join(path,\"result\",\"eda\",\"지점별Family연평균시계열그래프\",j + \"_\" +mean_df.columns[i+1]+\".jpg\",))\n",
    "        "
   ]
  },
  {
   "cell_type": "markdown",
   "metadata": {},
   "source": [
    "* 종별 각 년도 출현미출현"
   ]
  },
  {
   "cell_type": "code",
   "execution_count": null,
   "metadata": {},
   "outputs": [],
   "source": [
    "for i in list(set(search_df.columns) - {'조사년도', '조사회차', '조사지점'}):\n",
    "    search_df.loc[:,i] = search_df.loc[:,i].map(lambda x: 1 if x > 0 else 0)\n",
    "oa_balance_by_year = search_df.groupby('조사년도').sum()\n",
    "\n",
    "for i in list(set(search_df.columns) - {'조사년도', '조사회차', '조사지점'}):\n",
    "    search_df.loc[:,i] = search_df.loc[:,i].map(lambda x: 1 if x == 0 else 0)\n",
    "oa_balance_by_year2 = search_df.groupby('조사년도').sum()\n",
    "\n",
    "oa_balance_by_year.to_csv(os.path.join(path,\"result\",\"eda\",\"종별출현지점수.csv\"), encoding = 'euc-kr')\n",
    "oa_balance_by_year2.to_csv(os.path.join(path,\"result\",\"eda\",\"종별미출현지점수.csv\"), encoding = 'euc-kr')"
   ]
  },
  {
   "cell_type": "markdown",
   "metadata": {},
   "source": [
    "## histogram"
   ]
  },
  {
   "cell_type": "markdown",
   "metadata": {},
   "source": [
    "* 매칭된 데이터 vs 원본 비교"
   ]
  },
  {
   "cell_type": "code",
   "execution_count": null,
   "metadata": {},
   "outputs": [],
   "source": [
    "# 자료 5종류 + 생물측정망자료\n",
    "wq_gdf = pickle.load(open(os.path.join(path,\"data\",\"merged\",\"merged_1\",\"wq_gdf.p\",), \"rb\")) \n",
    "sq_gdf = pickle.load(open(os.path.join(path,\"data\",\"merged\",\"merged_1\",\"sq_gdf.p\",), \"rb\")) \n",
    "landcover_gdf = pickle.load(open(os.path.join(path,\"data\",\"merged\",\"merged_1\",\"landcover_gdf_2.p\",), \"rb\")) \n",
    "hyd_gdf = pickle.load(open(os.path.join(path,\"data\",\"merged\",\"merged_1\",\"hyd_gdf.p\",), \"rb\")) \n",
    "atm_gdf = pickle.load(open(os.path.join(path,\"data\",\"merged\",\"merged_1\",\"atm_gdf.p\",), \"rb\")) \n",
    "Family_gdf = pickle.load(open(os.path.join(path,\"data\",\"merged\",\"merged_1\",\"Family_gdf.p\",), \"rb\"))\n",
    "Order_gdf = pickle.load(open(os.path.join(path,\"data\",\"merged\",\"merged_1\",\"Order_gdf.p\",), \"rb\"))\n",
    "name_gdf = pickle.load(open(os.path.join(path,\"data\",\"merged\",\"merged_1\",\"학명_gdf.p\",), \"rb\"))\n",
    "\n",
    "#좌표계 설정\n",
    "atm_gdf.crs = {'init':'epsg:5181'}\n",
    "atm_gdf = atm_gdf.to_crs(landcover_gdf.crs)\n",
    "\n",
    "hyd_gdf.crs = {'init':'epsg:5181'}\n",
    "hyd_gdf = hyd_gdf.to_crs(landcover_gdf.crs)\n",
    "\n",
    "# datetime 설정\n",
    "wq_gdf.연도 = pd.to_datetime(wq_gdf.연도,format=\"%Y\")\n",
    "atm_gdf.일시 = pd.to_datetime(atm_gdf.일시)\n",
    "Family_gdf.조사년도 = pd.to_datetime(Family_gdf.조사년도,format=\"%Y\")\n",
    "Order_gdf.조사년도 = pd.to_datetime(Order_gdf.조사년도,format=\"%Y\")\n",
    "name_gdf.조사년도 = pd.to_datetime(name_gdf.조사년도,format=\"%Y\")\n",
    "\n",
    "#\n",
    "base_df = pd.read_csv(os.path.join(path,\"data\",\"merged\",\"merged_result\",'Family_merged_edit2.csv',), encoding= 'euc-kr')\n",
    "inde_val_list = {'조사지점', '일시', '수면폭', '평균수심', '단면적', '유량', '평균유속', '용존산소(DO)', '화학적산소요구량(COD)', '전기전도도(EC)', '수소이온농도(pH)', '생물화학적산소요구량(BOD)', 'cate_1', 'cate_2', 'cate_3', 'cate_4', 'cate_5', 'cate_6', 'cate_7', '최대 순간 풍속(m/s)', '평균 이슬점온도(°C)', '최저기온(°C)', '최소 상대습도(%)', '10분 최다 강수량(mm)', '최저 초상온도(°C)', '합계 일조시간(hr)', '평균 지면온도(°C)', '평균 증기압(hPa)', '평균 풍속(m/s)', '최저 해면기압(hPa)', '1시간 최다강수량(mm)', '최대 풍속(m/s)', '평균 상대습도(%)', '평균 해면기압(hPa)', '평균 현지기압(hPa)', '최고기온(°C)', '일강수량(mm)', '평균기온(°C)'}\n",
    "\n",
    "research_data = base_df.loc[:,inde_val_list]\n"
   ]
  },
  {
   "cell_type": "markdown",
   "metadata": {},
   "source": [
    "* 수질데이터 리샘플"
   ]
  },
  {
   "cell_type": "code",
   "execution_count": null,
   "metadata": {},
   "outputs": [],
   "source": [
    "remove_col = {'No',\n",
    "            '연도',\n",
    "            '월',\n",
    "            '조사회차',\n",
    "            '채수일자',\n",
    "            '수계명',\n",
    "            '중권역명',\n",
    "            '측정소명',\n",
    "            'category',\n",
    "            'field_1',\n",
    "            '수질측정망',\n",
    "            '조사지점명',\n",
    "            '분류번호',\n",
    "            '대권역(No)',\n",
    "            '대권역',\n",
    "            '중권역(No)',\n",
    "            '중권역',\n",
    "            '주소',\n",
    "            'N (도분초)',\n",
    "            'E (도분초)',\n",
    "            'N',\n",
    "            'E',\n",
    "            'WGS84_X',\n",
    "            'WGS84_Y',\n",
    "            'OBJECTID',\n",
    "            'CAT_ID',\n",
    "            'CAT_DID',\n",
    "            'BRU_X',\n",
    "            'BRU_Y',\n",
    "            'BLL_X',\n",
    "            'BLL_Y',\n",
    "            'Shape_Leng',\n",
    "            'Shape_Area',\n",
    "            'streamname',\n",
    "            'BASIN_ID',\n",
    "            'BASIN_NM',\n",
    "            'MB_ID',\n",
    "            'MB_NM',\n",
    "            'SB_ID',\n",
    "            'SB_NM',\n",
    "            'CAT_SN',\n",
    "            'CAT_DIV',\n",
    "            'AREA',\n",
    "            'PERI',\n",
    "            'CAT_FLAG',\n",
    "            'geometry',\n",
    "            'SBSNCD',\n",
    "            'SBSNNM',\n",
    "            'BBSNCD',\n",
    "            'MBSNCD'}\n",
    "\n",
    "after_add = [\n",
    "            'CAT_DID',\n",
    "            'BRU_X',\n",
    "            'BRU_Y',\n",
    "            'BLL_X',\n",
    "            'BLL_Y',\n",
    "            'Shape_Leng',\n",
    "            'Shape_Area',\n",
    "            'streamname',\n",
    "            'BASIN_ID',\n",
    "            'BASIN_NM',\n",
    "            'MB_ID',\n",
    "            'MB_NM',\n",
    "            'SB_ID',\n",
    "            'SB_NM', \n",
    "            '측정소명',\n",
    "            'geometry']\n",
    "all_col = set(wq_gdf.columns)\n",
    "remain_col = list(all_col - remove_col) + ['연도']\n",
    "\n",
    "site_list = list(set(wq_gdf.측정소명.values))\n",
    "df_bysite_list = []\n",
    "for s_name in site_list:\n",
    "    t_df = wq_gdf.loc[wq_gdf.측정소명 == s_name, remain_col].set_index('연도').resample(rule = '1Y').mean()\n",
    "    t_df.loc[:,after_add] = np.array(wq_gdf.loc[wq_gdf.측정소명 == s_name, after_add].iloc[0].tolist(), dtype = object)\n",
    "    df_bysite_list.append(t_df)\n",
    "\n",
    "wq_df_resampled = pd.concat(df_bysite_list)"
   ]
  },
  {
   "cell_type": "markdown",
   "metadata": {},
   "source": [
    "* 퇴적물데이터 리샘플"
   ]
  },
  {
   "cell_type": "code",
   "execution_count": null,
   "metadata": {},
   "outputs": [],
   "source": [
    "# 퇴적물데이터 수질측정망이라는 컬럼있음 어디서 들어온건지 확인하고 체크하기(잘못병합됐을 수 있음)\n",
    "# 확인결과 여기서 수질측정망 컬럼은 하천, 호소 등을 표시하는 컬럼임\n",
    "remove_col = {'지점명',\n",
    " '년',\n",
    " '월',\n",
    " '일',\n",
    " '채취시간',\n",
    " '반기',\n",
    " '조사기관',\n",
    " 'field_1',\n",
    " '수질측정망',\n",
    " '조사지점명',\n",
    " '분류번호',\n",
    " '대권역(No)',\n",
    " '대권역',\n",
    " '중권역(No)',\n",
    " '중권역',\n",
    " '주소',\n",
    " 'field_10',\n",
    " 'N (도분초)',\n",
    " 'E (도분초)',\n",
    " 'WGS84_Y',\n",
    " 'WGS84_X',\n",
    " 'OBJECTID',\n",
    " 'CAT_ID',\n",
    " 'CAT_DID',\n",
    " 'BRU_X',\n",
    " 'BRU_Y',\n",
    " 'BLL_X',\n",
    " 'BLL_Y',\n",
    " 'Shape_Leng',\n",
    " 'Shape_Area',\n",
    " 'streamname',\n",
    " 'BASIN_ID',\n",
    " 'BASIN_NM',\n",
    " 'MB_ID',\n",
    " 'MB_NM',\n",
    " 'SB_ID',\n",
    " 'SB_NM',\n",
    " 'CAT_SN',\n",
    " 'CAT_DIV',\n",
    " 'AREA',\n",
    " 'PERI',\n",
    " 'CAT_FLAG',\n",
    " 'geometry',\n",
    " 'SBSNCD',\n",
    " 'SBSNNM',\n",
    " 'BBSNCD',\n",
    " 'MBSNCD',\n",
    " '일시'\n",
    " }\n",
    "\n",
    "after_add = [\n",
    "            'CAT_DID',\n",
    "            'BRU_X',\n",
    "            'BRU_Y',\n",
    "            'BLL_X',\n",
    "            'BLL_Y',\n",
    "            'Shape_Leng',\n",
    "            'Shape_Area',\n",
    "            'streamname',\n",
    "            'BASIN_ID',\n",
    "            'BASIN_NM',\n",
    "            'MB_ID',\n",
    "            'MB_NM',\n",
    "            'SB_ID',\n",
    "            'SB_NM', \n",
    "            '지점명',\n",
    "            'geometry']\n",
    "all_col = set(sq_gdf.columns)\n",
    "remain_col = list(all_col - remove_col) + ['일시']\n",
    "\n",
    "site_list = list(set(sq_gdf.지점명.values))\n",
    "df_bysite_list = []\n",
    "for s_name in site_list:\n",
    "    t_df = sq_gdf.loc[sq_gdf.지점명 == s_name, remain_col].set_index('일시').resample(rule = '1Y').mean()\n",
    "    t_df.loc[:,after_add] = np.array(sq_gdf.loc[sq_gdf.지점명 == s_name, after_add].iloc[0].tolist(), dtype = object)\n",
    "    df_bysite_list.append(t_df)\n",
    "\n",
    "sq_df_resampled = pd.concat(df_bysite_list)"
   ]
  },
  {
   "cell_type": "markdown",
   "metadata": {},
   "source": [
    "* 수리수문데이터 리샘플"
   ]
  },
  {
   "cell_type": "code",
   "execution_count": null,
   "metadata": {},
   "outputs": [],
   "source": [
    "# 퇴적물데이터 수질측정망이라는 컬럼있음 어디서 들어온건지 확인하고 체크하기(잘못병합됐을 수 있음)\n",
    "remove_col = {'수계명',\n",
    " '관측소명',\n",
    " '측정시각',\n",
    " 'x',\n",
    " 'y',\n",
    " 'geometry',\n",
    " 'OBJECTID',\n",
    " 'CAT_ID',\n",
    " 'CAT_DID',\n",
    " 'BRU_X',\n",
    " 'BRU_Y',\n",
    " 'BLL_X',\n",
    " 'BLL_Y',\n",
    " 'Shape_Leng',\n",
    " 'Shape_Area',\n",
    " 'streamname',\n",
    " 'BASIN_ID',\n",
    " 'BASIN_NM',\n",
    " 'MB_ID',\n",
    " 'MB_NM',\n",
    " 'SB_ID',\n",
    " 'SB_NM',\n",
    " 'CAT_SN',\n",
    " 'CAT_DIV',\n",
    " 'AREA',\n",
    " 'PERI',\n",
    " 'CAT_FLAG'\n",
    " }\n",
    "\n",
    "after_add = [\n",
    "            'OBJECTID',\n",
    "            'CAT_ID',\n",
    "            'CAT_DID',\n",
    "            'BRU_X',\n",
    "            'BRU_Y',\n",
    "            'BLL_X',\n",
    "            'BLL_Y',\n",
    "            'Shape_Leng',\n",
    "            'Shape_Area',\n",
    "            'streamname',\n",
    "            'BASIN_ID',\n",
    "            'BASIN_NM',\n",
    "            'MB_ID',\n",
    "            'MB_NM',\n",
    "            'SB_ID',\n",
    "            'SB_NM', \n",
    "            '관측소명',\n",
    "            'geometry']\n",
    "all_col = set(hyd_gdf.columns)\n",
    "remain_col = list(all_col - remove_col) + ['측정시각']\n",
    "\n",
    "site_list = list(set(hyd_gdf.관측소명.values))\n",
    "df_bysite_list = []\n",
    "for s_name in site_list:\n",
    "    t_df = hyd_gdf.loc[hyd_gdf.관측소명 == s_name, remain_col].set_index('측정시각').resample(rule = '1Y').mean()\n",
    "    t_df.loc[:,after_add] = np.array(hyd_gdf.loc[hyd_gdf.관측소명 == s_name, after_add].iloc[0].tolist(), dtype = object)\n",
    "    df_bysite_list.append(t_df)\n",
    "\n",
    "hyd_df_resampled = pd.concat(df_bysite_list)"
   ]
  },
  {
   "cell_type": "markdown",
   "metadata": {},
   "source": [
    "* 기상데이터 리샘플"
   ]
  },
  {
   "cell_type": "code",
   "execution_count": null,
   "metadata": {},
   "outputs": [],
   "source": [
    "# 퇴적물데이터 수질측정망이라는 컬럼있음 어디서 들어온건지 확인하고 체크하기(잘못병합됐을 수 있음)\n",
    "remove_col = {'지점',\n",
    " '지점명',\n",
    " '일시',\n",
    " '기사',\n",
    " '안개 계속시간(hr)',\n",
    " '시작일',\n",
    " '종료일',\n",
    " '지점주소',\n",
    " '관리관서',\n",
    " '위도',\n",
    " '경도',\n",
    " '노장해발고도(m)',\n",
    " '기압계(관측장비지상높이(m))',\n",
    " '기온계(관측장비지상높이(m))',\n",
    " '풍속계(관측장비지상높이(m))',\n",
    " '강우계(관측장비지상높이(m))',\n",
    " 'geometry',\n",
    " 'OBJECTID',\n",
    " 'CAT_ID',\n",
    " 'CAT_DID',\n",
    " 'BRU_X',\n",
    " 'BRU_Y',\n",
    " 'BLL_X',\n",
    " 'BLL_Y',\n",
    " 'Shape_Leng',\n",
    " 'Shape_Area',\n",
    " 'streamname',\n",
    " 'BASIN_ID',\n",
    " 'BASIN_NM',\n",
    " 'MB_ID',\n",
    " 'MB_NM',\n",
    " 'SB_ID',\n",
    " 'SB_NM',\n",
    " 'CAT_SN',\n",
    " 'CAT_DIV',\n",
    " 'AREA',\n",
    " 'PERI',\n",
    " 'CAT_FLAG'\n",
    " }\n",
    "\n",
    "after_add = [\n",
    "            'OBJECTID',\n",
    "            'CAT_ID',\n",
    "            'CAT_DID',\n",
    "            'BRU_X',\n",
    "            'BRU_Y',\n",
    "            'BLL_X',\n",
    "            'BLL_Y',\n",
    "            'Shape_Leng',\n",
    "            'Shape_Area',\n",
    "            'streamname',\n",
    "            'BASIN_ID',\n",
    "            'BASIN_NM',\n",
    "            'MB_ID',\n",
    "            'MB_NM',\n",
    "            'SB_ID',\n",
    "            'SB_NM', \n",
    "            '지점명',\n",
    "            'geometry']\n",
    "all_col = set(atm_gdf.columns)\n",
    "remain_col = list(all_col - remove_col) + ['일시']\n",
    "\n",
    "site_list = list(set(atm_gdf.지점명.values))\n",
    "df_bysite_list = []\n",
    "for s_name in site_list:\n",
    "    t_df = atm_gdf.loc[atm_gdf.지점명 == s_name, remain_col].set_index('일시').resample(rule = '1Y').mean()\n",
    "    t_df.loc[:,after_add] = np.array(atm_gdf.loc[atm_gdf.지점명 == s_name, after_add].iloc[0].tolist(), dtype = object)\n",
    "    df_bysite_list.append(t_df)\n",
    "\n",
    "atm_df_resampled = pd.concat(df_bysite_list)"
   ]
  },
  {
   "cell_type": "markdown",
   "metadata": {},
   "source": [
    "* 생물측정망 리샘플"
   ]
  },
  {
   "cell_type": "code",
   "execution_count": null,
   "metadata": {},
   "outputs": [],
   "source": [
    "# 퇴적물데이터 수질측정망이라는 컬럼있음 어디서 들어온건지 확인하고 체크하기(잘못병합됐을 수 있음)\n",
    "cate_level = 'Family'  #'Family', 'name','Order'\n",
    "sp_gdf = Order_gdf if cate_level == 'Order' else Family_gdf if cate_level == 'Family' else name_gdf\n",
    "\n",
    "remove_col = {'조사년도',\n",
    " '조사회차',\n",
    " '대권역_x',\n",
    " '중권역_x',\n",
    " '조사지점',\n",
    " 'field_1',\n",
    " '조사지점명',\n",
    " '분류번호',\n",
    " '대권역(No)',\n",
    " '대권역_y',\n",
    " '중권역(No)',\n",
    " '중권역_y',\n",
    " '주소',\n",
    " 'N (도분초)',\n",
    " 'E (도분초)',\n",
    " '조사기관',\n",
    " 'WGS84_Y',\n",
    " 'WGS84_X',\n",
    " 'OBJECTID',\n",
    " 'CAT_ID',\n",
    " 'CAT_DID',\n",
    " 'BRU_X',\n",
    " 'BRU_Y',\n",
    " 'BLL_X',\n",
    " 'BLL_Y',\n",
    " 'Shape_Leng',\n",
    " 'Shape_Area',\n",
    " 'streamname',\n",
    " 'BASIN_ID',\n",
    " 'BASIN_NM',\n",
    " 'MB_ID',\n",
    " 'MB_NM',\n",
    " 'SB_ID',\n",
    " 'SB_NM',\n",
    " 'CAT_SN',\n",
    " 'CAT_DIV',\n",
    " 'AREA',\n",
    " 'PERI',\n",
    " 'CAT_FLAG',\n",
    " 'geometry',\n",
    " '수계',\n",
    " '연도',\n",
    " '회차',\n",
    " '분류코드',\n",
    " '조사구간명',\n",
    " '종횡사주_횟수_평가 ',\n",
    " '자연성_정도_평가 ',\n",
    " '유속_다양성_평가',\n",
    " '하천변_폭_평가 ',\n",
    " '저수로_하안_평가 ',\n",
    " '하안_재료_평가 ',\n",
    " '저질_상태_평가 ',\n",
    " '횡구조물_방해_평가 ',\n",
    " '제외지_토지이용_평가 ',\n",
    " '제내지_토지이용_평가',\n",
    " '조사불가 특이사항',\n",
    " 'SBSNCD',\n",
    " 'SBSNNM',\n",
    " 'BBSNCD',\n",
    " 'MBSNCD'\n",
    " }\n",
    "\n",
    "after_add = [\n",
    "            'OBJECTID',\n",
    "            'CAT_ID',\n",
    "            'CAT_DID',\n",
    "            'BRU_X',\n",
    "            'BRU_Y',\n",
    "            'BLL_X',\n",
    "            'BLL_Y',\n",
    "            'Shape_Leng',\n",
    "            'Shape_Area',\n",
    "            'streamname',\n",
    "            'BASIN_ID',\n",
    "            'BASIN_NM',\n",
    "            'MB_ID',\n",
    "            'MB_NM',\n",
    "            'SB_ID',\n",
    "            'SB_NM', \n",
    "            '조사지점',\n",
    "            'geometry']\n",
    "all_col = set(sp_gdf.columns)\n",
    "remain_col = list(all_col - remove_col) + ['조사년도']\n",
    "\n",
    "site_list = list(set(sp_gdf.조사지점.values))\n",
    "df_bysite_list = []\n",
    "for s_name in site_list:\n",
    "    t_df = sp_gdf.loc[sp_gdf.조사지점 == s_name, remain_col].set_index('조사년도').resample(rule = '1Y').sum()\n",
    "    t_df.loc[:,after_add] = np.array(sp_gdf.loc[sp_gdf.조사지점 == s_name, after_add].iloc[0].tolist(), dtype = object)\n",
    "    df_bysite_list.append(t_df)\n",
    "\n",
    "sp_df_resampled = pd.concat(df_bysite_list)"
   ]
  },
  {
   "cell_type": "code",
   "execution_count": null,
   "metadata": {},
   "outputs": [],
   "source": [
    "weight = wq_df_resampled.loc[:,'용존산소(DO)'].values\n",
    "weight2 = research_data.loc[:,'용존산소(DO)'].values\n",
    "plt.hist(weight, bins=30, label='매칭전')\n",
    "plt.hist(weight2, bins=30, label='매칭후')\n",
    "plt.legend()\n",
    "plt.show()"
   ]
  },
  {
   "cell_type": "code",
   "execution_count": null,
   "metadata": {},
   "outputs": [],
   "source": [
    "## 기상데이터는 최근접지점 찾아서 매칭\n",
    "sp_df_resampled.loc[:,'일시'] = sp_df_resampled.index\n",
    "sp_df_resampled.index = range(len(sp_df_resampled))\n",
    "\n",
    "hyd_df_resampled.loc[:,'일시'] = hyd_df_resampled.index\n",
    "hyd_df_resampled.index = range(len(hyd_df_resampled))\n",
    "\n",
    "atm_df_resampled.loc[:,'일시'] = atm_df_resampled.index\n",
    "atm_df_resampled.index = range(len(atm_df_resampled))\n",
    "\n",
    "wq_df_resampled.loc[:,'일시'] = wq_df_resampled.index\n",
    "wq_df_resampled.index = range(len(wq_df_resampled))\n",
    "\n",
    "sq_df_resampled.loc[:,'일시'] = sq_df_resampled.index\n",
    "sq_df_resampled.index = range(len(sq_df_resampled))\n",
    "\n",
    "\n",
    "\n",
    "## 최근접 기상지점 매칭\n",
    "for i in range(len(sp_df_resampled)):\n",
    "    at_drop_du_df = atm_df_resampled.loc[atm_df_resampled.일시 == sp_df_resampled.loc[i].일시]\n",
    "    at_drop_du_df.index = range(len(at_drop_du_df))\n",
    "\n",
    "    # test.geometry[i].distance(atm_df_resampled.geometry)\n",
    "    result = [sp_df_resampled.geometry[i].distance(at_point) for at_point in at_drop_du_df.geometry]\n",
    "    min_ind = np.argmin(result)\n",
    "    sp_df_resampled.loc[i,'기상지점'] = at_drop_du_df.iloc[min_ind].지점명\n",
    "\n",
    "\n",
    "\n",
    "\n",
    "merged_df2 = pd.merge(sp_df_resampled, hyd_df_resampled, how='outer', left_on=['일시','CAT_DID'], right_on=['일시','CAT_DID'])\n",
    "merged_df2 = pd.merge(merged_df2, wq_df_resampled, how='outer', left_on=['일시','CAT_DID'], right_on=['일시','CAT_DID'])\n",
    "merged_df2 = pd.merge(merged_df2, sq_df_resampled, how='outer', left_on=['일시','CAT_DID'], right_on=['일시','CAT_DID'])\n",
    "merged_df2 = pd.merge(merged_df2, landcover_gdf, how='outer', left_on=['CAT_DID'], right_on=['CAT_DID'])\n",
    "merged_df2 = pd.merge(merged_df2, atm_df_resampled, how='outer', left_on=['일시','기상지점'], right_on=['일시','지점명'])\n",
    "\n",
    "all_colname = set(merged_df2.columns)\n",
    "cut_colname = {\n",
    "    'OBJECTID_x','CAT_ID_x','CAT_DID_x','BRU_X_x','BRU_Y_x','BLL_X_x','BLL_Y_x','Shape_Leng_x','Shape_Area_x','streamname_x','BASIN_ID_x','BASIN_NM_x','MB_ID_x','MB_NM_x','SB_ID_x','SB_NM_x','geometry_x','OBJECTID_y','CAT_ID_y','BRU_X_y','BRU_Y_y','BLL_X_y','BLL_Y_y','Shape_Leng_y','Shape_Area_y','streamname_y','BASIN_ID_y','BASIN_NM_y','MB_ID_y','MB_NM_y','SB_ID_y','SB_NM_y','geometry_y','BRU_X_x','BRU_Y_x','BLL_X_x','BLL_Y_x','Shape_Leng_x','Shape_Area_x','streamname_x','BASIN_ID_x','BASIN_NM_x','MB_ID_x','MB_NM_x','SB_ID_x','SB_NM_x','geometry_x','BRU_X_y','BRU_Y_y','BLL_X_y','BLL_Y_y','Shape_Leng_y','Shape_Area_y','streamname_y','BASIN_ID_y','BASIN_NM_y','MB_ID_y','MB_NM_y','SB_ID_y','SB_NM_y','geometry_y','OBJECTID_x','CAT_ID_x','BRU_X_x','BRU_Y_x','BLL_X_x','BLL_Y_x','Shape_Leng_x','Shape_Area_x','streamname_x','BASIN_ID_x','BASIN_NM_x','MB_ID_x','MB_NM_x','SB_ID_x','SB_NM_x','CAT_SN','CAT_DIV','AREA','PERI','CAT_FLAG','geometry_x','OBJECTID_y','CAT_ID_y','CAT_DID_y','BRU_X_y','BRU_Y_y','BLL_X_y','BLL_Y_y','Shape_Leng_y','Shape_Area_y','streamname_y','BASIN_ID_y','BASIN_NM_y','MB_ID_y','MB_NM_y','SB_ID_y','SB_NM_y','geometry_y'\n",
    "}\n",
    "cut_cols = {'OBJECTID_x', 'CAT_ID_x', 'CAT_DID_x', 'BRU_X_x', 'BRU_Y_x', 'BLL_X_x', 'BLL_Y_x', 'Shape_Leng_x', 'Shape_Area_x', 'streamname_x', 'BASIN_ID_x', 'BASIN_NM_x', 'MB_ID_x', 'MB_NM_x', 'SB_ID_x', 'SB_NM_x', '조사지점', 'geometry_x', '일시', '기상지점', '수면폭', '평균수심', '단면적', '유량', '평균유속', 'OBJECTID_y', 'CAT_ID_y', 'BRU_X_y', 'BRU_Y_y', 'BLL_X_y', 'BLL_Y_y', 'Shape_Leng_y', 'Shape_Area_y', 'streamname_y', 'BASIN_ID_y', 'BASIN_NM_y', 'MB_ID_y', 'MB_NM_y', 'SB_ID_y', 'SB_NM_y', '관측소명', 'geometry_y', '니켈(Ni)', '투명도_x', '용존산소(DO)', '셀레늄(Se)', '염소이온(Cl-)', '화학적산소요구량(COD)', '전기전도도(EC)', '수심', '수온', '바륨(Ba)', '수소이온농도(pH)', '생물화학적산소요구량(BOD)', 'BRU_X_x', 'BRU_Y_x', 'BLL_X_x', 'BLL_Y_x', 'Shape_Leng_x', 'Shape_Area_x', 'streamname_x', 'BASIN_ID_x', 'BASIN_NM_x', 'MB_ID_x', 'MB_NM_x', 'SB_ID_x', 'SB_NM_x', '측정소명', 'geometry_x', '함수율(%)', 'TOC(%)', '최고수심(m)', '표층-측정수심(m)', '저층DO(㎎/L)', 'Cu(㎎/㎏)', '완전연소가능량(%)', 'COD(%)', 'Ni(㎎/㎏)', '입도-실트(%)', 'T-N(㎎/㎏)', 'Li(㎎/㎏)', '표층-수온(℃)', 'Zn(㎎/㎏)', '표층전기전도도(25℃μS/㎝)', 'Cr(㎎/㎏)', '입도-모래(%)', 'Hg(㎎/㎏', 'Pb(㎎/㎏)', '표층pH', '표층-DO(㎎/L)', 'TotalPAHs(㎍/㎏)', '저층수온(℃)', 'T-P(㎎/㎏)', 'As(㎎/㎏)', '저층전기전도도(25℃μS/㎝)', '저층pH', '입도-점토(%)', '투명도_y', 'Cd(㎎/㎏)', '저층-측정수심(m)', 'Al(%)', 'BRU_X_y', 'BRU_Y_y', 'BLL_X_y', 'BLL_Y_y', 'Shape_Leng_y', 'Shape_Area_y', 'streamname_y', 'BASIN_ID_y', 'BASIN_NM_y', 'MB_ID_y', 'MB_NM_y', 'SB_ID_y', 'SB_NM_y', '지점명_x', 'geometry_y', 'OBJECTID_x', 'CAT_ID_x', 'BRU_X_x', 'BRU_Y_x', 'BLL_X_x', 'BLL_Y_x', 'Shape_Leng_x', 'Shape_Area_x', 'streamname_x', 'BASIN_ID_x', 'BASIN_NM_x', 'MB_ID_x', 'MB_NM_x', 'SB_ID_x', 'SB_NM_x', 'CAT_SN', 'CAT_DIV', 'AREA', 'PERI', 'CAT_FLAG', 'geometry_x', 'cate_0', 'cate_1', 'cate_2', 'cate_3', 'cate_4', 'cate_5', 'cate_6', 'cate_7', '평균 20cm 지중온도(°C)', '9-9강수(mm)', '1시간 최다일사 시각(hhmi)', '최저기온 시각(hhmi)', '풍정합(100m)', '합계 대형증발량(mm)', '최대 풍속 시각(hhmi)', '1시간 최다 강수량 시각(hhmi)', '평균 전운량(1/10)', '최고 해면기압(hPa)', '최대 순간 풍속(m/s)', '합계 소형증발량(mm)', '평균 이슬점온도(°C)', '강수 계속시간(hr)', '최고기온 시각(hhmi)', '최소 상대습도 시각(hhmi)', '최저기온(°C)', '최저 해면기압 시각(hhmi)', '5.0m 지중온도(°C)', '합계 일사량(MJ/m2)', '최소 상대습도(%)', '최고 해면기압 시각(hhmi)', '10분 최다 강수량(mm)', '평균 중하층운량(1/10)', '가조시간(hr)', '최저 초상온도(°C)', '합계 일조시간(hr)', '평균 지면온도(°C)', '1.5m 지중온도(°C)', '평균 증기압(hPa)', '1시간 최다일사량(MJ/m2)', '평균 풍속(m/s)', '평균 5cm 지중온도(°C)', '최대 순간풍속 시각(hhmi)', '0.5m 지중온도(°C)', '평균 10cm 지중온도(°C)', '최저 해면기압(hPa)', '최대 순간 풍속 풍향(16방위)', '합계 3시간 신적설(cm)', '일 최심신적설 시각(hhmi)', '1.0m 지중온도(°C)', '일 최심신적설(cm)', '일 최심적설 시각(hhmi)', '1시간 최다강수량(mm)', '일 최심적설(cm)', '최대 풍속(m/s)', '평균 상대습도(%)', '최다풍향(16방위)', '최대 풍속 풍향(16방위)', '평균 해면기압(hPa)', '평균 30cm 지중온도(°C)', '10분 최다강수량 시각(hhmi)', '최고기온(°C)', '평균 현지기압(hPa)', '일강수량(mm)', '3.0m 지중온도(°C)', '평균기온(°C)', 'OBJECTID_y', 'CAT_ID_y', 'CAT_DID_y', 'BRU_X_y', 'BRU_Y_y', 'BLL_X_y', 'BLL_Y_y', 'Shape_Leng_y', 'Shape_Area_y', 'streamname_y', 'BASIN_ID_y', 'BASIN_NM_y', 'MB_ID_y', 'MB_NM_y', 'SB_ID_y', 'SB_NM_y', '지점명_y', 'geometry_y'}\n",
    "\n",
    "add_cols = ['조사지점', '일시', '수면폭', '평균수심', '단면적', '유량', '평균유속', '니켈(Ni)', '투명도_x', '용존산소(DO)', '셀레늄(Se)', '염소이온(Cl-)', '화학적산소요구량(COD)', '전기전도도(EC)', '수심', '수온', '바륨(Ba)', '수소이온농도(pH)', '생물화학적산소요구량(BOD)', '함수율(%)', 'TOC(%)', '최고수심(m)', '표층-측정수심(m)', '저층DO(㎎/L)', 'Cu(㎎/㎏)', '완전연소가능량(%)', 'COD(%)', 'Ni(㎎/㎏)', '입도-실트(%)', 'T-N(㎎/㎏)', 'Li(㎎/㎏)', '표층-수온(℃)', 'Zn(㎎/㎏)', '표층전기전도도(25℃μS/㎝)', 'Cr(㎎/㎏)', '입도-모래(%)', 'Hg(㎎/㎏', 'Pb(㎎/㎏)', '표층pH', '표층-DO(㎎/L)', 'TotalPAHs(㎍/㎏)', '저층수온(℃)', 'T-P(㎎/㎏)', 'As(㎎/㎏)', '저층전기전도도(25℃μS/㎝)', '저층pH', '입도-점토(%)', '투명도_y', 'Cd(㎎/㎏)', '저층-측정수심(m)', 'Al(%)', 'cate_0', 'cate_1', 'cate_2', 'cate_3', 'cate_4', 'cate_5', 'cate_6', 'cate_7', '평균 20cm 지중온도(°C)', '9-9강수(mm)', '1시간 최다일사 시각(hhmi)', '최저기온 시각(hhmi)', '풍정합(100m)', '합계 대형증발량(mm)', '최대 풍속 시각(hhmi)', '1시간 최다 강수량 시각(hhmi)', '평균 전운량(1/10)', '최고 해면기압(hPa)', '최대 순간 풍속(m/s)', '합계 소형증발량(mm)', '평균 이슬점온도(°C)', '강수 계속시간(hr)', '최고기온 시각(hhmi)', '최소 상대습도 시각(hhmi)', '최저기온(°C)', '최저 해면기압 시각(hhmi)', '5.0m 지중온도(°C)', '합계 일사량(MJ/m2)', '최소 상대습도(%)', '최고 해면기압 시각(hhmi)', '10분 최다 강수량(mm)', '평균 중하층운량(1/10)', '가조시간(hr)', '최저 초상온도(°C)', '합계 일조시간(hr)', '평균 지면온도(°C)', '1.5m 지중온도(°C)', '평균 증기압(hPa)', '1시간 최다일사량(MJ/m2)', '평균 풍속(m/s)', '평균 5cm 지중온도(°C)', '최대 순간풍속 시각(hhmi)', '0.5m 지중온도(°C)', '평균 10cm 지중온도(°C)', '최저 해면기압(hPa)', '최대 순간 풍속 풍향(16방위)', '합계 3시간 신적설(cm)', '일 최심신적설 시각(hhmi)', '1.0m 지중온도(°C)', '일 최심신적설(cm)', '일 최심적설 시각(hhmi)', '1시간 최다강수량(mm)', '일 최심적설(cm)', '최대 풍속(m/s)', '평균 상대습도(%)', '최다풍향(16방위)', '최대 풍속 풍향(16방위)', '평균 해면기압(hPa)', '평균 30cm 지중온도(°C)', '10분 최다강수량 시각(hhmi)', '최고기온(°C)', '평균 현지기압(hPa)', '일강수량(mm)', '3.0m 지중온도(°C)', '평균기온(°C)',]\n",
    "\n",
    "filtered_df2 = merged_df2.loc[:,list(all_colname - cut_cols) + add_cols] #geometry_x"
   ]
  },
  {
   "cell_type": "code",
   "execution_count": null,
   "metadata": {},
   "outputs": [],
   "source": [
    "for i in inde_val_list - {'조사지점','일시'}:\n",
    "\n",
    "    weight = filtered_df2.loc[:,i].values\n",
    "    weight2 = research_data.loc[:,i].values\n",
    "    plt.hist(weight, bins=30, label=i+'매칭전')\n",
    "    plt.hist(weight2, bins=30, label=i+'매칭후')\n",
    "    plt.legend()\n",
    "    plt.show()"
   ]
  },
  {
   "cell_type": "markdown",
   "metadata": {},
   "source": [
    "## cor"
   ]
  },
  {
   "cell_type": "code",
   "execution_count": null,
   "metadata": {},
   "outputs": [],
   "source": [
    "research_data.loc[:,inde_val_list - {'조사지점','일시'}].corr(method='pearson')"
   ]
  },
  {
   "cell_type": "code",
   "execution_count": null,
   "metadata": {},
   "outputs": [],
   "source": [
    "import seaborn as sb\n",
    "fig, ax = plt.subplots(figsize=(20,20)) \n",
    "sb.heatmap(data = research_data.loc[:,inde_val_list - {'조사지점','일시'}].corr(method='pearson'), annot=True, fmt = '.2f', linewidths=.5, cmap='Blues',ax=ax)"
   ]
  },
  {
   "cell_type": "markdown",
   "metadata": {},
   "source": [
    "## sdm 1"
   ]
  },
  {
   "cell_type": "code",
   "execution_count": null,
   "metadata": {},
   "outputs": [],
   "source": [
    "base_df = pd.read_csv(os.path.join(path,\"data\",\"merged\",\"merged_result\",'Family_merged_edit2.csv',), encoding= 'euc-kr')\n",
    "base_df = base_df.dropna(subset=['평균유속','용존산소(DO)'])"
   ]
  },
  {
   "cell_type": "code",
   "execution_count": null,
   "metadata": {},
   "outputs": [],
   "source": [
    "tt_list = []\n",
    "for site in list(set(base_df.조사지점.values)):\n",
    "    tt_list.append(base_df.loc[base_df.조사지점 == site].groupby('일시').mean())"
   ]
  },
  {
   "cell_type": "code",
   "execution_count": null,
   "metadata": {},
   "outputs": [],
   "source": [
    "for i in range(3):\n",
    "    tt_list[1].iloc[:,i].plot()"
   ]
  },
  {
   "cell_type": "code",
   "execution_count": null,
   "metadata": {},
   "outputs": [],
   "source": [
    "tt_list[i].iloc[:,1:20].plot()"
   ]
  },
  {
   "cell_type": "code",
   "execution_count": null,
   "metadata": {},
   "outputs": [],
   "source": [
    "tt_list[1].columns.tolist()"
   ]
  },
  {
   "cell_type": "code",
   "execution_count": null,
   "metadata": {},
   "outputs": [],
   "source": [
    "inde_val_list = {'조사지점', '일시', '수면폭', '평균수심', '단면적', '유량', '평균유속', '용존산소(DO)', '화학적산소요구량(COD)', '전기전도도(EC)', '수소이온농도(pH)', '생물화학적산소요구량(BOD)', 'cate_1', 'cate_2', 'cate_3', 'cate_4', 'cate_5', 'cate_6', 'cate_7', '최대 순간 풍속(m/s)', '평균 이슬점온도(°C)', '최저기온(°C)', '최소 상대습도(%)', '10분 최다 강수량(mm)', '최저 초상온도(°C)', '합계 일조시간(hr)', '평균 지면온도(°C)', '평균 증기압(hPa)', '평균 풍속(m/s)', '최저 해면기압(hPa)', '1시간 최다강수량(mm)', '최대 풍속(m/s)', '평균 상대습도(%)', '평균 해면기압(hPa)', '평균 현지기압(hPa)', '최고기온(°C)', '일강수량(mm)', '평균기온(°C)'}\n",
    "de_val_list = set(base_df.columns.tolist()[1:]) - {'조사지점', '일시', '수면폭', '평균수심', '단면적', '유량', '평균유속', '니켈(Ni)', '투명도_x', '용존산소(DO)', '셀레늄(Se)', '염소이온(Cl-)', '화학적산소요구량(COD)', '전기전도도(EC)', '수심', '수온', '바륨(Ba)', '수소이온농도(pH)', '생물화학적산소요구량(BOD)', '함수율(%)', 'TOC(%)', '최고수심(m)', '표층-측정수심(m)', '저층DO(㎎/L)', 'Cu(㎎/㎏)', '완전연소가능량(%)', 'COD(%)', 'Ni(㎎/㎏)', '입도-실트(%)', 'T-N(㎎/㎏)', 'Li(㎎/㎏)', '표층-수온(℃)', 'Zn(㎎/㎏)', '표층전기전도도(25℃μS/㎝)', 'Cr(㎎/㎏)', '입도-모래(%)', 'Hg(㎎/㎏', 'Pb(㎎/㎏)', '표층pH', '표층-DO(㎎/L)', 'TotalPAHs(㎍/㎏)', '저층수온(℃)', 'T-P(㎎/㎏)', 'As(㎎/㎏)', '저층전기전도도(25℃μS/㎝)', '저층pH', '입도-점토(%)', '투명도_y', 'Cd(㎎/㎏)', '저층-측정수심(m)', 'Al(%)', 'cate_0', 'cate_1', 'cate_2', 'cate_3', 'cate_4', 'cate_5', 'cate_6', 'cate_7', '평균 20cm 지중온도(°C)', '9-9강수(mm)', '1시간 최다일사 시각(hhmi)', '최저기온 시각(hhmi)', '풍정합(100m)', '합계 대형증발량(mm)', '최대 풍속 시각(hhmi)', '1시간 최다 강수량 시각(hhmi)', '평균 전운량(1/10)', '최고 해면기압(hPa)', '최대 순간 풍속(m/s)', '합계 소형증발량(mm)', '평균 이슬점온도(°C)', '강수 계속시간(hr)', '최고기온 시각(hhmi)', '최소 상대습도 시각(hhmi)', '최저기온(°C)', '최저 해면기압 시각(hhmi)', '5.0m 지중온도(°C)', '합계 일사량(MJ/m2)', '최소 상대습도(%)', '최고 해면기압 시각(hhmi)', '10분 최다 강수량(mm)', '평균 중하층운량(1/10)', '가조시간(hr)', '최저 초상온도(°C)', '합계 일조시간(hr)', '평균 지면온도(°C)', '1.5m 지중온도(°C)', '평균 증기압(hPa)', '1시간 최다일사량(MJ/m2)', '평균 풍속(m/s)', '평균 5cm 지중온도(°C)', '최대 순간풍속 시각(hhmi)', '0.5m 지중온도(°C)', '평균 10cm 지중온도(°C)', '최저 해면기압(hPa)', '최대 순간 풍속 풍향(16방위)', '합계 3시간 신적설(cm)', '일 최심신적설 시각(hhmi)', '1.0m 지중온도(°C)', '일 최심신적설(cm)', '일 최심적설 시각(hhmi)', '1시간 최다강수량(mm)', '일 최심적설(cm)', '최대 풍속(m/s)', '평균 상대습도(%)', '최다풍향(16방위)', '최대 풍속 풍향(16방위)', '평균 해면기압(hPa)', '평균 30cm 지중온도(°C)', '10분 최다강수량 시각(hhmi)', '최고기온(°C)', '평균 현지기압(hPa)', '일강수량(mm)', '3.0m 지중온도(°C)', '평균기온(°C)'}"
   ]
  },
  {
   "cell_type": "code",
   "execution_count": null,
   "metadata": {},
   "outputs": [],
   "source": [
    "df_list_by_family = []\n",
    "df_list_name = []\n",
    "col_list = list(inde_val_list)\n",
    "col_list.sort()\n",
    "\n",
    "for i in list(de_val_list):\n",
    "    df_list_by_family.append(base_df.loc[:,[i]+col_list].dropna())\n",
    "    df_list_name.append(i)"
   ]
  },
  {
   "cell_type": "code",
   "execution_count": null,
   "metadata": {},
   "outputs": [],
   "source": [
    "df_list_by_family[2]"
   ]
  },
  {
   "cell_type": "code",
   "execution_count": null,
   "metadata": {},
   "outputs": [],
   "source": [
    "y = df_list_by_family[2].iloc[:,0].map(lambda x : 1 if x > 0 else 0).values\n",
    "x = df_list_by_family[2].loc[:,list(set(df_list_by_family[0].iloc[:,1:].columns) - {'일시','조사지점'})].values"
   ]
  },
  {
   "cell_type": "code",
   "execution_count": null,
   "metadata": {},
   "outputs": [],
   "source": [
    "x, x_test, y, y_test = train_test_split(x, y, test_size=0.2, random_state=93,)"
   ]
  },
  {
   "cell_type": "code",
   "execution_count": null,
   "metadata": {},
   "outputs": [],
   "source": [
    "model = XGBClassifier(random_state=100)\n",
    "model.fit(x,y.ravel())"
   ]
  },
  {
   "cell_type": "code",
   "execution_count": null,
   "metadata": {},
   "outputs": [],
   "source": [
    "y_pred=model.predict(x_test)\n",
    "y_pred_prob=model.predict_proba(x_test)"
   ]
  },
  {
   "cell_type": "code",
   "execution_count": null,
   "metadata": {},
   "outputs": [],
   "source": [
    "score1 = sklearn.metrics.accuracy_score(y_true=y_test, y_pred=y_pred)\n",
    "score2 = sklearn.metrics.recall_score(y_true=y_test, y_pred=y_pred)\n",
    "fpr, tpr, thresholds = sklearn.metrics.roc_curve(y_test, y_pred, pos_label=1)\n",
    "score3 = sklearn.metrics.auc(fpr, tpr)\n",
    "\n",
    "print('accuracy: ',score1,\" recall: \",score2,\" auc: \",score3,)"
   ]
  },
  {
   "cell_type": "code",
   "execution_count": null,
   "metadata": {},
   "outputs": [],
   "source": [
    "shap_values = shap.TreeExplainer(model).shap_values(x)"
   ]
  },
  {
   "cell_type": "code",
   "execution_count": null,
   "metadata": {},
   "outputs": [],
   "source": [
    "shap.summary_plot(shap_values, x, feature_names=list(set(df_list_by_family[0].iloc[:,1:].columns) - {'일시','조사지점'}),show=False,max_display=100)"
   ]
  },
  {
   "cell_type": "markdown",
   "metadata": {},
   "source": [
    "* baetidae"
   ]
  },
  {
   "cell_type": "code",
   "execution_count": null,
   "metadata": {},
   "outputs": [],
   "source": [
    "y = df_list_by_family[df_list_name.index('Baetidae')].iloc[:,0].map(lambda x : 1 if x > 0 else 0).values\n",
    "x = df_list_by_family[df_list_name.index('Baetidae')].loc[:,list(set(df_list_by_family[0].iloc[:,1:].columns) - {'일시','조사지점'})].values"
   ]
  },
  {
   "cell_type": "code",
   "execution_count": null,
   "metadata": {},
   "outputs": [],
   "source": [
    "x, x_test, y, y_test = train_test_split(x, y, test_size=0.2, random_state=93,)"
   ]
  },
  {
   "cell_type": "code",
   "execution_count": null,
   "metadata": {},
   "outputs": [],
   "source": [
    "model = XGBClassifier(random_state=100)\n",
    "model.fit(x,y.ravel())"
   ]
  },
  {
   "cell_type": "code",
   "execution_count": null,
   "metadata": {},
   "outputs": [],
   "source": [
    "y_pred=model.predict(x_test)\n",
    "y_pred_prob=model.predict_proba(x_test)"
   ]
  },
  {
   "cell_type": "code",
   "execution_count": null,
   "metadata": {},
   "outputs": [],
   "source": [
    "score1 = sklearn.metrics.accuracy_score(y_true=y_test, y_pred=y_pred)\n",
    "score2 = sklearn.metrics.recall_score(y_true=y_test, y_pred=y_pred)\n",
    "fpr, tpr, thresholds = sklearn.metrics.roc_curve(y_test, y_pred, pos_label=1)\n",
    "score3 = sklearn.metrics.auc(fpr, tpr)\n",
    "\n",
    "print('accuracy: ',score1,\" recall: \",score2,\" auc: \",score3,)"
   ]
  },
  {
   "cell_type": "code",
   "execution_count": null,
   "metadata": {},
   "outputs": [],
   "source": [
    "shap_values = shap.TreeExplainer(model).shap_values(x)"
   ]
  },
  {
   "cell_type": "code",
   "execution_count": null,
   "metadata": {},
   "outputs": [],
   "source": [
    "shap.summary_plot(shap_values, x, feature_names=list(set(df_list_by_family[0].iloc[:,1:].columns) - {'일시','조사지점'}),show=False,max_display=100)"
   ]
  },
  {
   "cell_type": "code",
   "execution_count": null,
   "metadata": {},
   "outputs": [],
   "source": [
    "df_list_by_family[df_list_name.index('Baetidae')].loc[:,list(set(df_list_by_family[0].iloc[:,1:].columns) - {'일시','조사지점'})].hist()"
   ]
  },
  {
   "cell_type": "code",
   "execution_count": null,
   "metadata": {},
   "outputs": [],
   "source": [
    "plt.hist(weight, label='bins=10')\n",
    "plt.hist(weight, bins=30, label='bins=30')\n",
    "plt.legend()\n",
    "plt.show()"
   ]
  },
  {
   "cell_type": "markdown",
   "metadata": {},
   "source": [
    "### 기타 확인"
   ]
  },
  {
   "cell_type": "code",
   "execution_count": null,
   "metadata": {},
   "outputs": [],
   "source": [
    "test_shp = [gpd.GeoDataFrame.from_file(path_shp,) for path_shp in glob(os.path.join(path,\"data\",\"rawdata\",\"202111_습지생물상_조사_저서성대형무척추동물_점\",\"*.shp\",))]"
   ]
  },
  {
   "cell_type": "code",
   "execution_count": null,
   "metadata": {},
   "outputs": [],
   "source": [
    "test_shp[0].explore()"
   ]
  }
 ],
 "metadata": {
  "kernelspec": {
   "display_name": "geo_pd",
   "language": "python",
   "name": "python3"
  },
  "language_info": {
   "codemirror_mode": {
    "name": "ipython",
    "version": 3
   },
   "file_extension": ".py",
   "mimetype": "text/x-python",
   "name": "python",
   "nbconvert_exporter": "python",
   "pygments_lexer": "ipython3",
   "version": "3.9.13 | packaged by conda-forge | (main, May 27 2022, 16:50:36) [MSC v.1929 64 bit (AMD64)]"
  },
  "orig_nbformat": 4,
  "vscode": {
   "interpreter": {
    "hash": "88b14b9c90d78b9577938163650f1d5f2038951c030afae248cbbb3f6d0fff9c"
   }
  }
 },
 "nbformat": 4,
 "nbformat_minor": 2
}
