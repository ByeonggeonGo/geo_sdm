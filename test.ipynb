{
 "cells": [
  {
   "cell_type": "code",
   "execution_count": 1,
   "metadata": {},
   "outputs": [],
   "source": [
    "from geosdm.dataprocessing import ecological_info\n",
    "from geosdm.dataprocessing import hydinfo\n",
    "from geosdm.dataprocessing import landcover\n",
    "from geosdm.dataprocessing import sedi_info\n",
    "from geosdm.dataprocessing import water_quality_info\n",
    "from geosdm.dataprocessing import weather\n",
    "from geosdm.dataprocessing import datacontroller\n",
    "\n",
    "from glob import glob\n",
    "import rasterio\n",
    "import os\n",
    "from rasterio.merge import merge\n",
    "import rioxarray\n",
    "import geopandas as gpd \n",
    "import matplotlib.pyplot as plt\n",
    "import numpy as np\n",
    "import pickle\n",
    "import pandas as pd\n",
    "from shapely.geometry import Point\n",
    "from pyproj import Proj, transform\n",
    "from rasterstats import zonal_stats"
   ]
  },
  {
   "cell_type": "code",
   "execution_count": 2,
   "metadata": {},
   "outputs": [
    {
     "name": "stderr",
     "output_type": "stream",
     "text": [
      "c:\\Users\\rhqud\\AppData\\Local\\Programs\\Python\\Python38\\lib\\site-packages\\pyproj\\crs\\crs.py:141: FutureWarning: '+init=<authority>:<code>' syntax is deprecated. '<authority>:<code>' is the preferred initialization method. When making the change, be mindful of axis order changes: https://pyproj4.github.io/pyproj/stable/gotchas.html#axis-order-changes-in-proj-6\n",
      "  in_crs_string = _prepare_from_proj_string(in_crs_string)\n",
      "c:\\Users\\rhqud\\repos\\geo_sdm\\geosdm\\dataprocessing\\weather.py:172: FutureWarning: Dropping invalid columns in DataFrameGroupBy.quantile is deprecated. In a future version, a TypeError will be raised. Before calling .quantile, select only columns which should be valid for the function.\n",
      "  q1_df = atm_df_filter_1.groupby('지점명').quantile([0.25]).set_index(mean_df.index)\n",
      "c:\\Users\\rhqud\\repos\\geo_sdm\\geosdm\\dataprocessing\\weather.py:174: FutureWarning: Dropping invalid columns in DataFrameGroupBy.quantile is deprecated. In a future version, a TypeError will be raised. Before calling .quantile, select only columns which should be valid for the function.\n",
      "  q3_df = atm_df_filter_1.groupby('지점명').quantile([0.75]).set_index(mean_df.index)\n",
      "c:\\Users\\rhqud\\repos\\geo_sdm\\geosdm\\dataprocessing\\water_quality_info.py:167: FutureWarning: Dropping invalid columns in DataFrameGroupBy.quantile is deprecated. In a future version, a TypeError will be raised. Before calling .quantile, select only columns which should be valid for the function.\n",
      "  q1_df = filter_3_wq_data.groupby('PT_NO').quantile([0.25]).set_index(mean_df.index)\n",
      "c:\\Users\\rhqud\\repos\\geo_sdm\\geosdm\\dataprocessing\\water_quality_info.py:169: FutureWarning: Dropping invalid columns in DataFrameGroupBy.quantile is deprecated. In a future version, a TypeError will be raised. Before calling .quantile, select only columns which should be valid for the function.\n",
      "  q3_df = filter_3_wq_data.groupby('PT_NO').quantile([0.75]).set_index(mean_df.index)\n",
      "c:\\Users\\rhqud\\repos\\geo_sdm\\geosdm\\dataprocessing\\hydinfo.py:413: FutureWarning: Dropping invalid columns in DataFrameGroupBy.quantile is deprecated. In a future version, a TypeError will be raised. Before calling .quantile, select only columns which should be valid for the function.\n",
      "  q1_df = hyd_df_filter_1.groupby('관측소명').quantile([0.25]).set_index(mean_df.index)\n",
      "c:\\Users\\rhqud\\repos\\geo_sdm\\geosdm\\dataprocessing\\hydinfo.py:415: FutureWarning: Dropping invalid columns in DataFrameGroupBy.quantile is deprecated. In a future version, a TypeError will be raised. Before calling .quantile, select only columns which should be valid for the function.\n",
      "  q3_df = hyd_df_filter_1.groupby('관측소명').quantile([0.75]).set_index(mean_df.index)\n",
      "c:\\Users\\rhqud\\AppData\\Local\\Programs\\Python\\Python38\\lib\\site-packages\\rasterstats\\io.py:335: NodataWarning: Setting nodata to -999; specify nodata explicitly\n",
      "  warnings.warn(\n"
     ]
    }
   ],
   "source": [
    "data_path_list = os.getcwd().split(os.path.sep) + ['data']\n",
    "data_path = os.path.sep.join(data_path_list)\n",
    "use_cleaned_dataset = True\n",
    "\n",
    "\n",
    "controller = datacontroller.DataContorller(data_path, use_cleaned_dataset)\n",
    "controller.get_merged_set('name')"
   ]
  },
  {
   "cell_type": "code",
   "execution_count": 3,
   "metadata": {},
   "outputs": [],
   "source": [
    "controller._final_set.to_csv('name.csv', encoding='euc-kr')"
   ]
  },
  {
   "attachments": {},
   "cell_type": "markdown",
   "metadata": {},
   "source": [
    "* 피팅"
   ]
  },
  {
   "cell_type": "code",
   "execution_count": null,
   "metadata": {},
   "outputs": [],
   "source": [
    "sub_cols = [\n",
    "'유량',\n",
    "'cate_1', 'cate_2', 'cate_3', 'cate_4', 'cate_5', 'cate_6', 'cate_7', 'elevation', 'slope',\n",
    "'일강수량(mm)', '평균기온(°C)', '합계 일조시간(hr)', '일강수량(mm)_q1', '평균기온(°C)_q1', '합계 일조시간(hr)_q1', '일강수량(mm)_q3', '평균기온(°C)_q3', '합계 일조시간(hr)_q3'\n",
    "\n",
    "]\n",
    "subset_df = controller._final_set.loc[:,sub_cols]\n",
    "subset_df = subset_df.dropna()"
   ]
  },
  {
   "cell_type": "code",
   "execution_count": 38,
   "metadata": {},
   "outputs": [],
   "source": [
    "from sklearn.ensemble import RandomForestRegressor\n",
    "import xgboost as xgb\n",
    "from sklearn.metrics import mean_squared_error, r2_score\n",
    "import shap\n",
    "from sklearn.model_selection import train_test_split\n",
    "import matplotlib.pyplot as plt"
   ]
  },
  {
   "cell_type": "code",
   "execution_count": 30,
   "metadata": {},
   "outputs": [],
   "source": [
    "y = subset_df.iloc[:,0]\n",
    "X = subset_df.iloc[:,1:]\n",
    "X_train, X_test, y_train, y_test = train_test_split(X, y, test_size=0.2, random_state=42 )"
   ]
  },
  {
   "cell_type": "code",
   "execution_count": 48,
   "metadata": {},
   "outputs": [
    {
     "name": "stdout",
     "output_type": "stream",
     "text": [
      "3326.1348258671037 9822.45605332428 57.67265232211107 99.10830466375802 0.9142923627089218 0.7195381765479276\n"
     ]
    }
   ],
   "source": [
    "# rand_reg = RandomForestRegressor(random_state=42, max_depth=3, n_estimators=300)\n",
    "# space_xgb = [hp.uniform('learn',0.01,0.8),           \n",
    "#          hp.quniform('nesti',100,350,q=10),          \n",
    "#          hp.quniform('maxd',3,8,q=1),                \n",
    "#          hp.quniform('minc',  1,10,q=1),             \n",
    "#          hp.uniform('gamm',  0.1,3),              \n",
    "#          hp.uniform('subsa',  0.5,1),\n",
    "#          hp.uniform('colsample_b',  0.6,0.9),\n",
    "#          #hp.quniform('scalepos',  0.8,1.2,q=0.1)\n",
    "#          #hp.quniform('times',  0,6,q=1)\n",
    "#          ]\n",
    "\n",
    "rand_reg = xgb.XGBRegressor(\n",
    "        learning_rate =0.01,\n",
    "        n_estimators=500,\n",
    "        max_depth=10,\n",
    "        min_child_weight=3,\n",
    "        gamma=0.5,\n",
    "        subsample=0.6,\n",
    "        colsample_bytree=0.7,\n",
    "        # scale_pos_weight=scalepos,\n",
    "        #seed=seed_value,\n",
    "        n_jobs = -1,\n",
    "        seed = 100)\n",
    "rand_reg.fit(X_train, y_train.ravel())\n",
    "\n",
    "y_pred_train = rand_reg.predict(X_train)\n",
    "y_pred = rand_reg.predict(X_test)\n",
    "\n",
    "train_mse = mean_squared_error(y_train, y_pred_train, squared= True)\n",
    "test_mse = mean_squared_error(y_test, y_pred, squared= True)\n",
    "\n",
    "train_rmse = mean_squared_error(y_train, y_pred_train, squared= False)\n",
    "test_rmse = mean_squared_error(y_test, y_pred, squared= False)\n",
    "\n",
    "train_r2 = r2_score(y_train, y_pred_train,)\n",
    "test_r2 = r2_score(y_test, y_pred,)\n",
    "\n",
    "print(train_mse, test_mse, train_rmse, test_rmse, train_r2, test_r2)"
   ]
  },
  {
   "cell_type": "code",
   "execution_count": 49,
   "metadata": {},
   "outputs": [
    {
     "data": {
      "text/plain": [
       "[<matplotlib.lines.Line2D at 0x1b9dfa74ca0>]"
      ]
     },
     "execution_count": 49,
     "metadata": {},
     "output_type": "execute_result"
    },
    {
     "data": {
      "image/png": "[encoded data removed]",
      "text/plain": [
       "<Figure size 640x480 with 1 Axes>"
      ]
     },
     "metadata": {},
     "output_type": "display_data"
    }
   ],
   "source": [
    "plt.plot(y_train, y_pred_train, 'bo', markersize = 1)"
   ]
  },
  {
   "cell_type": "code",
   "execution_count": 50,
   "metadata": {},
   "outputs": [
    {
     "data": {
      "text/plain": [
       "[<matplotlib.lines.Line2D at 0x1b9dfae8880>]"
      ]
     },
     "execution_count": 50,
     "metadata": {},
     "output_type": "execute_result"
    },
    {
     "data": {
      "image/png": "[encoded data removed]",
      "text/plain": [
       "<Figure size 640x480 with 1 Axes>"
      ]
     },
     "metadata": {},
     "output_type": "display_data"
    }
   ],
   "source": [
    "plt.plot(y_test, y_pred, 'bo', markersize = 1)"
   ]
  },
  {
   "cell_type": "code",
   "execution_count": null,
   "metadata": {},
   "outputs": [],
   "source": [
    "shap_values = shap.TreeExplainer(ind_val[10]).shap_values(X)\n",
    "shap.summary_plot(shap_base.reshape(-1,119), reshape_input, feature_names=col_names,show=False,max_display=20)\n"
   ]
  },
  {
   "attachments": {},
   "cell_type": "markdown",
   "metadata": {},
   "source": [
    "* CAT-DID로 KRF자료 이미 주어져있음\n",
    "* 상하류 DID 정보?\n",
    "* 전체 소하천 KRF에 생물측정망을 붙여야할지 고민\n",
    "* 하상정보? 병합"
   ]
  }
 ],
 "metadata": {
  "kernelspec": {
   "display_name": "Python 3",
   "language": "python",
   "name": "python3"
  },
  "language_info": {
   "codemirror_mode": {
    "name": "ipython",
    "version": 3
   },
   "file_extension": ".py",
   "mimetype": "text/x-python",
   "name": "python",
   "nbconvert_exporter": "python",
   "pygments_lexer": "ipython3",
   "version": "3.8.1"
  },
  "orig_nbformat": 4
 },
 "nbformat": 4,
 "nbformat_minor": 2
}
