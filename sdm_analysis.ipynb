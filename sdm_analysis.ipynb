{
 "cells": [
  {
   "cell_type": "code",
   "execution_count": 1,
   "metadata": {},
   "outputs": [],
   "source": [
    "import warnings\n",
    "warnings.filterwarnings(action='ignore')\n",
    "\n",
    "\n",
    "from geosdm.analysis.modelController import ModelController\n",
    "import os"
   ]
  },
  {
   "cell_type": "code",
   "execution_count": 2,
   "metadata": {},
   "outputs": [],
   "source": [
    "data_path_list = os.getcwd().split(os.path.sep) + ['data']\n",
    "data_path = os.path.sep.join(data_path_list)\n",
    "\n",
    "result_path_list = os.getcwd().split(os.path.sep) + ['results']\n",
    "result_path = os.path.sep.join(result_path_list)"
   ]
  },
  {
   "attachments": {},
   "cell_type": "markdown",
   "metadata": {},
   "source": [
    "* DB 종들에 대한 종분포모델 피팅 예시"
   ]
  },
  {
   "cell_type": "code",
   "execution_count": 3,
   "metadata": {},
   "outputs": [],
   "source": [
    "sdm_model_controller = ModelController(data_path, result_path)"
   ]
  },
  {
   "cell_type": "code",
   "execution_count": 4,
   "metadata": {},
   "outputs": [
    {
     "data": {
      "text/plain": [
       "['Nemoura KUa',\n",
       " 'Alloperla joosti',\n",
       " 'Ecdyonurus joernensis',\n",
       " 'Nymphalinae sp.',\n",
       " 'Baetis fuscatus',\n",
       " 'Anodonta arcaeformis flavotincta',\n",
       " 'Nepa hoffmanni',\n",
       " 'Barbronia weberi',\n",
       " 'Dolophilodes KUa',\n",
       " 'Gyraulus illibatus']"
      ]
     },
     "execution_count": 4,
     "metadata": {},
     "output_type": "execute_result"
    }
   ],
   "source": [
    "# get species names\n",
    "species_names = sdm_model_controller._df_list_name\n",
    "species_names[:10]"
   ]
  },
  {
   "cell_type": "code",
   "execution_count": 5,
   "metadata": {},
   "outputs": [],
   "source": [
    "# 각 종들에 대해 종분포모델 피팅\n",
    "# presence 샘플이 없는 종의 경우 recall 연산에서 zero_division 경고 출력됨\n",
    "sdm_model_controller.fit_sdms(species_names)"
   ]
  },
  {
   "cell_type": "code",
   "execution_count": null,
   "metadata": {},
   "outputs": [
    {
     "name": "stderr",
     "output_type": "stream",
     "text": [
      "ntree_limit is deprecated, use `iteration_range` or model slicing instead.\n",
      "No data for colormapping provided via 'c'. Parameters 'vmin', 'vmax' will be ignored\n"
     ]
    }
   ],
   "source": [
    "# shap 연산 및 서머리플롯\n",
    "# results/shap_summary_plots 경로 확인\n",
    "sdm_model_controller.get_all_shap_summary_plot_n_values(species_names, True)"
   ]
  },
  {
   "cell_type": "code",
   "execution_count": null,
   "metadata": {},
   "outputs": [],
   "source": [
    "# 모델 성능 및 트레인셋 언밸런스 정보 등 모두 저장\n",
    "# results/model_performance 경로 확인\n",
    "sdm_model_controller.get_model_performances_all()"
   ]
  }
 ],
 "metadata": {
  "kernelspec": {
   "display_name": "Python 3",
   "language": "python",
   "name": "python3"
  },
  "language_info": {
   "codemirror_mode": {
    "name": "ipython",
    "version": 3
   },
   "file_extension": ".py",
   "mimetype": "text/x-python",
   "name": "python",
   "nbconvert_exporter": "python",
   "pygments_lexer": "ipython3",
   "version": "3.8.1"
  },
  "orig_nbformat": 4
 },
 "nbformat": 4,
 "nbformat_minor": 2
}
